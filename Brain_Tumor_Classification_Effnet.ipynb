{
  "nbformat": 4,
  "nbformat_minor": 0,
  "metadata": {
    "colab": {
      "name": "Brain_Tumor_Classification_Effnet.ipynb",
      "provenance": [],
      "collapsed_sections": []
    },
    "kernelspec": {
      "name": "python3",
      "display_name": "Python 3"
    },
    "language_info": {
      "name": "python"
    },
    "accelerator": "GPU"
  },
  "cells": [
    {
      "cell_type": "code",
      "metadata": {
        "colab": {
          "base_uri": "https://localhost:8080/"
        },
        "id": "C0lKb_p-ruxq",
        "outputId": "596d703c-287d-4576-8c82-83bc96057df1"
      },
      "source": [
        "from google.colab import drive\n",
        "drive.mount('/content/drive')"
      ],
      "execution_count": 1,
      "outputs": [
        {
          "output_type": "stream",
          "name": "stdout",
          "text": [
            "Drive already mounted at /content/drive; to attempt to forcibly remount, call drive.mount(\"/content/drive\", force_remount=True).\n"
          ]
        }
      ]
    },
    {
      "cell_type": "code",
      "metadata": {
        "id": "jtjd-eumD61y"
      },
      "source": [
        "import matplotlib.pyplot as plt\n",
        "import numpy as np\n",
        "import pandas as pd\n",
        "import seaborn as sns\n",
        "import cv2\n",
        "import tensorflow as tf\n",
        "from tensorflow.keras.preprocessing.image import ImageDataGenerator\n",
        "from tqdm import tqdm\n",
        "import os\n",
        "from sklearn.utils import shuffle\n",
        "from sklearn.model_selection import train_test_split\n",
        "from tensorflow.keras.applications import EfficientNetB0\n",
        "from tensorflow.keras.callbacks import EarlyStopping, ReduceLROnPlateau, TensorBoard, ModelCheckpoint\n",
        "from sklearn.metrics import classification_report,confusion_matrix\n",
        "import ipywidgets as widgets\n",
        "import io\n",
        "from PIL import Image\n",
        "from IPython.display import display,clear_output\n",
        "from warnings import filterwarnings\n",
        "for dirname, _, filenames in os.walk('/kaggle/input'):\n",
        "    for filename in filenames:\n",
        "        print(os.path.join(dirname, filename))"
      ],
      "execution_count": 2,
      "outputs": []
    },
    {
      "cell_type": "code",
      "metadata": {
        "id": "OcCUdG_-DQ-J"
      },
      "source": [
        "labels = ['glioma_tumor','no_tumor','meningioma_tumor','pituitary_tumor']"
      ],
      "execution_count": 3,
      "outputs": []
    },
    {
      "cell_type": "code",
      "metadata": {
        "colab": {
          "base_uri": "https://localhost:8080/"
        },
        "id": "k9cnylcBEKXV",
        "outputId": "aab84cf0-6be3-478a-f39c-7c8eca96366c"
      },
      "source": [
        "from zipfile import ZipFile\n",
        "file_name = \"/content/drive/MyDrive/dataset/brain-tumor-class.zip\"\n",
        "\n",
        "with ZipFile(file_name, 'r') as zip:\n",
        "  zip.extractall()\n",
        "  print('Done')"
      ],
      "execution_count": 4,
      "outputs": [
        {
          "output_type": "stream",
          "name": "stdout",
          "text": [
            "Done\n"
          ]
        }
      ]
    },
    {
      "cell_type": "code",
      "metadata": {
        "colab": {
          "base_uri": "https://localhost:8080/"
        },
        "id": "XIJGQ0ltDUvy",
        "outputId": "3a4f9a5a-4fa9-463c-9150-aa9b91b5608f"
      },
      "source": [
        "X_train = []\n",
        "y_train = []\n",
        "image_size = 150\n",
        "for i in labels:\n",
        "    folderPath = os.path.join('/content/brain-tumor-class','Training',i)\n",
        "    for j in tqdm(os.listdir(folderPath)):\n",
        "        img = cv2.imread(os.path.join(folderPath,j))\n",
        "        img = cv2.resize(img,(image_size, image_size))\n",
        "        X_train.append(img)\n",
        "        y_train.append(i)\n",
        "        \n",
        "for i in labels:\n",
        "    folderPath = os.path.join('/content/brain-tumor-class','Testing',i)\n",
        "    for j in tqdm(os.listdir(folderPath)):\n",
        "        img = cv2.imread(os.path.join(folderPath,j))\n",
        "        img = cv2.resize(img,(image_size,image_size))\n",
        "        X_train.append(img)\n",
        "        y_train.append(i)\n",
        "        \n",
        "X_train = np.array(X_train)\n",
        "y_train = np.array(y_train)"
      ],
      "execution_count": 5,
      "outputs": [
        {
          "output_type": "stream",
          "name": "stderr",
          "text": [
            "100%|██████████| 826/826 [00:02<00:00, 286.39it/s]\n",
            "100%|██████████| 395/395 [00:01<00:00, 392.58it/s]\n",
            "100%|██████████| 822/822 [00:02<00:00, 307.32it/s]\n",
            "100%|██████████| 827/827 [00:03<00:00, 273.43it/s]\n",
            "100%|██████████| 100/100 [00:00<00:00, 339.79it/s]\n",
            "100%|██████████| 105/105 [00:00<00:00, 767.63it/s]\n",
            "100%|██████████| 115/115 [00:00<00:00, 453.76it/s]\n",
            "100%|██████████| 74/74 [00:00<00:00, 144.60it/s]\n"
          ]
        }
      ]
    },
    {
      "cell_type": "code",
      "metadata": {
        "id": "XGaLrchXDe6U"
      },
      "source": [
        "X_train, y_train = shuffle(X_train,y_train, random_state=101)"
      ],
      "execution_count": 6,
      "outputs": []
    },
    {
      "cell_type": "code",
      "metadata": {
        "id": "VfEQVvIwDhPU"
      },
      "source": [
        "X_train,X_test,y_train,y_test = train_test_split(X_train,y_train, test_size=0.1,random_state=101)"
      ],
      "execution_count": 7,
      "outputs": []
    },
    {
      "cell_type": "code",
      "metadata": {
        "id": "xqDxwSv0DhwK"
      },
      "source": [
        "y_train_new = []\n",
        "for i in y_train:\n",
        "    y_train_new.append(labels.index(i))\n",
        "y_train = y_train_new\n",
        "y_train = tf.keras.utils.to_categorical(y_train)\n",
        "\n",
        "\n",
        "y_test_new = []\n",
        "for i in y_test:\n",
        "    y_test_new.append(labels.index(i))\n",
        "y_test = y_test_new\n",
        "y_test = tf.keras.utils.to_categorical(y_test)"
      ],
      "execution_count": 8,
      "outputs": []
    },
    {
      "cell_type": "code",
      "metadata": {
        "id": "9s-SwijjDjnQ"
      },
      "source": [
        "effnet = EfficientNetB0(weights='imagenet',include_top=False,input_shape=(image_size,image_size,3))"
      ],
      "execution_count": 9,
      "outputs": []
    },
    {
      "cell_type": "code",
      "metadata": {
        "id": "Yc796Iv9Dl5r"
      },
      "source": [
        "model = effnet.output\n",
        "model = tf.keras.layers.GlobalAveragePooling2D()(model)\n",
        "model = tf.keras.layers.Dropout(rate=0.5)(model)\n",
        "model = tf.keras.layers.Dense(4,activation='softmax')(model)\n",
        "model = tf.keras.models.Model(inputs=effnet.input, outputs = model)"
      ],
      "execution_count": 10,
      "outputs": []
    },
    {
      "cell_type": "code",
      "metadata": {
        "id": "gBhtP6hnDnm8"
      },
      "source": [
        "model.compile(loss='categorical_crossentropy',optimizer = 'Adam', metrics= ['accuracy'])"
      ],
      "execution_count": 11,
      "outputs": []
    },
    {
      "cell_type": "code",
      "metadata": {
        "id": "RPQd2foeDpjk"
      },
      "source": [
        "tensorboard = TensorBoard(log_dir = 'logs')\n",
        "checkpoint = ModelCheckpoint(\"effnet.h5\",monitor=\"val_accuracy\",save_best_only=True,mode=\"auto\",verbose=1)\n",
        "reduce_lr = ReduceLROnPlateau(monitor = 'val_accuracy', factor = 0.3, patience = 2, min_delta = 0.001,\n",
        "                              mode='auto',verbose=1)"
      ],
      "execution_count": 12,
      "outputs": []
    },
    {
      "cell_type": "code",
      "metadata": {
        "colab": {
          "base_uri": "https://localhost:8080/"
        },
        "id": "JWm-sUatDrlG",
        "outputId": "0aceba13-a085-43a3-ee63-9a8bf00ee461"
      },
      "source": [
        "history = model.fit(X_train,y_train,validation_split=0.2, epochs=25, verbose=1, batch_size=16,\n",
        "                   callbacks=[tensorboard,checkpoint,reduce_lr])"
      ],
      "execution_count": 13,
      "outputs": [
        {
          "output_type": "stream",
          "name": "stderr",
          "text": [
            "/usr/local/lib/python3.7/dist-packages/keras/engine/functional.py:1410: CustomMaskWarning: Custom mask layers require a config and must override get_config. When loading, the custom mask layer must be passed to the custom_objects argument.\n",
            "  layer_config = serialize_layer_fn(layer)\n"
          ]
        },
        {
          "output_type": "stream",
          "name": "stdout",
          "text": [
            "Epoch 1/25\n",
            "147/147 [==============================] - ETA: 0s - loss: 0.5064 - accuracy: 0.8084\n",
            "Epoch 00001: val_accuracy improved from -inf to 0.88435, saving model to effnet.h5\n",
            "147/147 [==============================] - 43s 206ms/step - loss: 0.5064 - accuracy: 0.8084 - val_loss: 0.4808 - val_accuracy: 0.8844 - lr: 0.0010\n",
            "Epoch 2/25\n",
            "147/147 [==============================] - ETA: 0s - loss: 0.2523 - accuracy: 0.9153\n",
            "Epoch 00002: val_accuracy improved from 0.88435 to 0.88605, saving model to effnet.h5\n",
            "147/147 [==============================] - 27s 187ms/step - loss: 0.2523 - accuracy: 0.9153 - val_loss: 0.3892 - val_accuracy: 0.8861 - lr: 0.0010\n",
            "Epoch 3/25\n",
            "147/147 [==============================] - ETA: 0s - loss: 0.1731 - accuracy: 0.9400\n",
            "Epoch 00003: val_accuracy did not improve from 0.88605\n",
            "147/147 [==============================] - 25s 173ms/step - loss: 0.1731 - accuracy: 0.9400 - val_loss: 0.4802 - val_accuracy: 0.8605 - lr: 0.0010\n",
            "Epoch 4/25\n",
            "147/147 [==============================] - ETA: 0s - loss: 0.1648 - accuracy: 0.9455\n",
            "Epoch 00004: val_accuracy improved from 0.88605 to 0.89116, saving model to effnet.h5\n",
            "147/147 [==============================] - 27s 187ms/step - loss: 0.1648 - accuracy: 0.9455 - val_loss: 0.4264 - val_accuracy: 0.8912 - lr: 0.0010\n",
            "Epoch 5/25\n",
            "147/147 [==============================] - ETA: 0s - loss: 0.0908 - accuracy: 0.9676\n",
            "Epoch 00005: val_accuracy improved from 0.89116 to 0.91667, saving model to effnet.h5\n",
            "147/147 [==============================] - 27s 187ms/step - loss: 0.0908 - accuracy: 0.9676 - val_loss: 0.3282 - val_accuracy: 0.9167 - lr: 0.0010\n",
            "Epoch 6/25\n",
            "147/147 [==============================] - ETA: 0s - loss: 0.1403 - accuracy: 0.9630\n",
            "Epoch 00006: val_accuracy improved from 0.91667 to 0.92347, saving model to effnet.h5\n",
            "147/147 [==============================] - 27s 187ms/step - loss: 0.1403 - accuracy: 0.9630 - val_loss: 0.3242 - val_accuracy: 0.9235 - lr: 0.0010\n",
            "Epoch 7/25\n",
            "147/147 [==============================] - ETA: 0s - loss: 0.0576 - accuracy: 0.9838\n",
            "Epoch 00007: val_accuracy improved from 0.92347 to 0.93027, saving model to effnet.h5\n",
            "147/147 [==============================] - 26s 179ms/step - loss: 0.0576 - accuracy: 0.9838 - val_loss: 0.3181 - val_accuracy: 0.9303 - lr: 0.0010\n",
            "Epoch 8/25\n",
            "147/147 [==============================] - ETA: 0s - loss: 0.0776 - accuracy: 0.9762\n",
            "Epoch 00008: val_accuracy did not improve from 0.93027\n",
            "147/147 [==============================] - 25s 173ms/step - loss: 0.0776 - accuracy: 0.9762 - val_loss: 0.3485 - val_accuracy: 0.9133 - lr: 0.0010\n",
            "Epoch 9/25\n",
            "147/147 [==============================] - ETA: 0s - loss: 0.0736 - accuracy: 0.9791\n",
            "Epoch 00009: val_accuracy did not improve from 0.93027\n",
            "\n",
            "Epoch 00009: ReduceLROnPlateau reducing learning rate to 0.0003000000142492354.\n",
            "147/147 [==============================] - 27s 181ms/step - loss: 0.0736 - accuracy: 0.9791 - val_loss: 0.4854 - val_accuracy: 0.8776 - lr: 0.0010\n",
            "Epoch 10/25\n",
            "147/147 [==============================] - ETA: 0s - loss: 0.0332 - accuracy: 0.9898\n",
            "Epoch 00010: val_accuracy improved from 0.93027 to 0.95068, saving model to effnet.h5\n",
            "147/147 [==============================] - 26s 179ms/step - loss: 0.0332 - accuracy: 0.9898 - val_loss: 0.2024 - val_accuracy: 0.9507 - lr: 3.0000e-04\n",
            "Epoch 11/25\n",
            "147/147 [==============================] - ETA: 0s - loss: 0.0118 - accuracy: 0.9966\n",
            "Epoch 00011: val_accuracy did not improve from 0.95068\n",
            "147/147 [==============================] - 25s 172ms/step - loss: 0.0118 - accuracy: 0.9966 - val_loss: 0.1691 - val_accuracy: 0.9490 - lr: 3.0000e-04\n",
            "Epoch 12/25\n",
            "147/147 [==============================] - ETA: 0s - loss: 0.0125 - accuracy: 0.9949\n",
            "Epoch 00012: val_accuracy did not improve from 0.95068\n",
            "\n",
            "Epoch 00012: ReduceLROnPlateau reducing learning rate to 9.000000427477062e-05.\n",
            "147/147 [==============================] - 25s 173ms/step - loss: 0.0125 - accuracy: 0.9949 - val_loss: 0.1833 - val_accuracy: 0.9490 - lr: 3.0000e-04\n",
            "Epoch 13/25\n",
            "147/147 [==============================] - ETA: 0s - loss: 0.0075 - accuracy: 0.9979\n",
            "Epoch 00013: val_accuracy did not improve from 0.95068\n",
            "147/147 [==============================] - 25s 172ms/step - loss: 0.0075 - accuracy: 0.9979 - val_loss: 0.2023 - val_accuracy: 0.9490 - lr: 9.0000e-05\n",
            "Epoch 14/25\n",
            "147/147 [==============================] - ETA: 0s - loss: 0.0055 - accuracy: 0.9983\n",
            "Epoch 00014: val_accuracy did not improve from 0.95068\n",
            "\n",
            "Epoch 00014: ReduceLROnPlateau reducing learning rate to 2.700000040931627e-05.\n",
            "147/147 [==============================] - 25s 172ms/step - loss: 0.0055 - accuracy: 0.9983 - val_loss: 0.1950 - val_accuracy: 0.9507 - lr: 9.0000e-05\n",
            "Epoch 15/25\n",
            "147/147 [==============================] - ETA: 0s - loss: 0.0053 - accuracy: 0.9987\n",
            "Epoch 00015: val_accuracy did not improve from 0.95068\n",
            "147/147 [==============================] - 25s 173ms/step - loss: 0.0053 - accuracy: 0.9987 - val_loss: 0.1872 - val_accuracy: 0.9507 - lr: 2.7000e-05\n",
            "Epoch 16/25\n",
            "147/147 [==============================] - ETA: 0s - loss: 0.0028 - accuracy: 0.9996\n",
            "Epoch 00016: val_accuracy did not improve from 0.95068\n",
            "\n",
            "Epoch 00016: ReduceLROnPlateau reducing learning rate to 8.100000013655517e-06.\n",
            "147/147 [==============================] - 25s 172ms/step - loss: 0.0028 - accuracy: 0.9996 - val_loss: 0.1902 - val_accuracy: 0.9507 - lr: 2.7000e-05\n",
            "Epoch 17/25\n",
            "147/147 [==============================] - ETA: 0s - loss: 0.0053 - accuracy: 0.9987\n",
            "Epoch 00017: val_accuracy did not improve from 0.95068\n",
            "147/147 [==============================] - 27s 181ms/step - loss: 0.0053 - accuracy: 0.9987 - val_loss: 0.1895 - val_accuracy: 0.9507 - lr: 8.1000e-06\n",
            "Epoch 18/25\n",
            "147/147 [==============================] - ETA: 0s - loss: 0.0026 - accuracy: 0.9996\n",
            "Epoch 00018: val_accuracy did not improve from 0.95068\n",
            "\n",
            "Epoch 00018: ReduceLROnPlateau reducing learning rate to 2.429999949526973e-06.\n",
            "147/147 [==============================] - 25s 173ms/step - loss: 0.0026 - accuracy: 0.9996 - val_loss: 0.1882 - val_accuracy: 0.9507 - lr: 8.1000e-06\n",
            "Epoch 19/25\n",
            "147/147 [==============================] - ETA: 0s - loss: 0.0038 - accuracy: 0.9996\n",
            "Epoch 00019: val_accuracy did not improve from 0.95068\n",
            "147/147 [==============================] - 26s 180ms/step - loss: 0.0038 - accuracy: 0.9996 - val_loss: 0.1907 - val_accuracy: 0.9507 - lr: 2.4300e-06\n",
            "Epoch 20/25\n",
            "147/147 [==============================] - ETA: 0s - loss: 0.0043 - accuracy: 0.9987\n",
            "Epoch 00020: val_accuracy did not improve from 0.95068\n",
            "\n",
            "Epoch 00020: ReduceLROnPlateau reducing learning rate to 7.289999985005124e-07.\n",
            "147/147 [==============================] - 25s 173ms/step - loss: 0.0043 - accuracy: 0.9987 - val_loss: 0.1912 - val_accuracy: 0.9507 - lr: 2.4300e-06\n",
            "Epoch 21/25\n",
            "147/147 [==============================] - ETA: 0s - loss: 0.0028 - accuracy: 1.0000\n",
            "Epoch 00021: val_accuracy did not improve from 0.95068\n",
            "147/147 [==============================] - 25s 173ms/step - loss: 0.0028 - accuracy: 1.0000 - val_loss: 0.1902 - val_accuracy: 0.9507 - lr: 7.2900e-07\n",
            "Epoch 22/25\n",
            "147/147 [==============================] - ETA: 0s - loss: 0.0046 - accuracy: 0.9991\n",
            "Epoch 00022: val_accuracy did not improve from 0.95068\n",
            "\n",
            "Epoch 00022: ReduceLROnPlateau reducing learning rate to 2.1870000637136398e-07.\n",
            "147/147 [==============================] - 27s 181ms/step - loss: 0.0046 - accuracy: 0.9991 - val_loss: 0.1918 - val_accuracy: 0.9507 - lr: 7.2900e-07\n",
            "Epoch 23/25\n",
            "147/147 [==============================] - ETA: 0s - loss: 0.0028 - accuracy: 1.0000\n",
            "Epoch 00023: val_accuracy did not improve from 0.95068\n",
            "147/147 [==============================] - 27s 181ms/step - loss: 0.0028 - accuracy: 1.0000 - val_loss: 0.1906 - val_accuracy: 0.9507 - lr: 2.1870e-07\n",
            "Epoch 24/25\n",
            "147/147 [==============================] - ETA: 0s - loss: 0.0032 - accuracy: 1.0000\n",
            "Epoch 00024: val_accuracy did not improve from 0.95068\n",
            "\n",
            "Epoch 00024: ReduceLROnPlateau reducing learning rate to 6.561000276406048e-08.\n",
            "147/147 [==============================] - 27s 181ms/step - loss: 0.0032 - accuracy: 1.0000 - val_loss: 0.1903 - val_accuracy: 0.9507 - lr: 2.1870e-07\n",
            "Epoch 25/25\n",
            "147/147 [==============================] - ETA: 0s - loss: 0.0062 - accuracy: 0.9991\n",
            "Epoch 00025: val_accuracy did not improve from 0.95068\n",
            "147/147 [==============================] - 27s 181ms/step - loss: 0.0062 - accuracy: 0.9991 - val_loss: 0.1902 - val_accuracy: 0.9507 - lr: 6.5610e-08\n"
          ]
        }
      ]
    },
    {
      "cell_type": "code",
      "metadata": {
        "id": "P3s6Jm-WD2ro",
        "colab": {
          "base_uri": "https://localhost:8080/",
          "height": 1000
        },
        "outputId": "9516fba3-38bd-44b2-d87d-9342c42600f4"
      },
      "source": [
        "#Graphing our training and validation\n",
        "acc = history.history['accuracy']\n",
        "val_acc = history.history['val_accuracy']\n",
        "loss = history.history['loss']\n",
        "val_loss = history.history['val_loss']\n",
        "\n",
        "plt.figure(figsize=(15, 8))\n",
        "\n",
        "epochs = range(len(acc))\n",
        "\n",
        "plt.plot(epochs, acc, 'r', label='Training acc')\n",
        "plt.plot(epochs, val_acc, 'b', label='Validation acc')\n",
        "plt.title('Training and validation accuracy', fontsize=20)\n",
        "plt.ylabel('accuracy') \n",
        "plt.xlabel('epoch')\n",
        "plt.legend()\n",
        "plt.figure()\n",
        "\n",
        "\n",
        "plt.figure(figsize=(15, 8))\n",
        "\n",
        "epochs = range(len(loss))\n",
        "\n",
        "plt.plot(epochs, loss, 'r', label='Training loss')\n",
        "plt.plot(epochs, val_loss, 'b', label='Validation loss')\n",
        "plt.title('Training and validation loss', fontsize=20)\n",
        "plt.ylabel('loss') \n",
        "plt.xlabel('epoch')\n",
        "plt.legend()\n",
        "plt.figure()"
      ],
      "execution_count": 14,
      "outputs": [
        {
          "output_type": "execute_result",
          "data": {
            "text/plain": [
              "<Figure size 432x288 with 0 Axes>"
            ]
          },
          "metadata": {},
          "execution_count": 14
        },
        {
          "output_type": "display_data",
          "data": {
            "image/png": "[encoded data removed]",
            "text/plain": [
              "<Figure size 1080x576 with 1 Axes>"
            ]
          },
          "metadata": {
            "needs_background": "light"
          }
        },
        {
          "output_type": "display_data",
          "data": {
            "text/plain": [
              "<Figure size 432x288 with 0 Axes>"
            ]
          },
          "metadata": {}
        },
        {
          "output_type": "display_data",
          "data": {
            "image/png": "[encoded data removed]",
            "text/plain": [
              "<Figure size 1080x576 with 1 Axes>"
            ]
          },
          "metadata": {
            "needs_background": "light"
          }
        },
        {
          "output_type": "display_data",
          "data": {
            "text/plain": [
              "<Figure size 432x288 with 0 Axes>"
            ]
          },
          "metadata": {}
        }
      ]
    },
    {
      "cell_type": "code",
      "metadata": {
        "id": "FmCj7tH2DtAq"
      },
      "source": [
        "pred = model.predict(X_test)\n",
        "pred = np.argmax(pred,axis=1)\n",
        "y_test_new = np.argmax(y_test,axis=1)"
      ],
      "execution_count": 15,
      "outputs": []
    },
    {
      "cell_type": "code",
      "metadata": {
        "id": "cu-1qHteHVJk",
        "colab": {
          "base_uri": "https://localhost:8080/"
        },
        "outputId": "5eec664b-ef66-4ee9-9be2-a05f657afa62"
      },
      "source": [
        "print(classification_report(y_test_new,pred))"
      ],
      "execution_count": 16,
      "outputs": [
        {
          "output_type": "stream",
          "name": "stdout",
          "text": [
            "              precision    recall  f1-score   support\n",
            "\n",
            "           0       1.00      0.92      0.96        93\n",
            "           1       0.93      1.00      0.96        51\n",
            "           2       0.96      0.97      0.96        96\n",
            "           3       0.98      1.00      0.99        87\n",
            "\n",
            "    accuracy                           0.97       327\n",
            "   macro avg       0.97      0.97      0.97       327\n",
            "weighted avg       0.97      0.97      0.97       327\n",
            "\n"
          ]
        }
      ]
    },
    {
      "cell_type": "code",
      "source": [
        "#Prediction of test set\n",
        "from sklearn.metrics import confusion_matrix \n",
        "import matplotlib.pyplot as plt\n",
        "import seaborn as sns\n",
        "\n",
        "plt.figure(figsize=(15, 10))\n",
        "\n",
        "conf_matrix = confusion_matrix(y_test_new,pred)\n",
        "sns.heatmap(conf_matrix,annot=True,fmt='g');\n",
        "plt.xlabel('predicted value')\n",
        "plt.ylabel('true value');\n",
        "\n",
        "plt.figure()"
      ],
      "metadata": {
        "id": "9UvDt90cUlRf",
        "colab": {
          "base_uri": "https://localhost:8080/",
          "height": 641
        },
        "outputId": "188acc17-788b-4175-ea86-9e18c30c6319"
      },
      "execution_count": 17,
      "outputs": [
        {
          "output_type": "execute_result",
          "data": {
            "text/plain": [
              "<Figure size 432x288 with 0 Axes>"
            ]
          },
          "metadata": {},
          "execution_count": 17
        },
        {
          "output_type": "display_data",
          "data": {
            "image/png": "[encoded data removed]",
            "text/plain": [
              "<Figure size 1080x720 with 2 Axes>"
            ]
          },
          "metadata": {
            "needs_background": "light"
          }
        },
        {
          "output_type": "display_data",
          "data": {
            "text/plain": [
              "<Figure size 432x288 with 0 Axes>"
            ]
          },
          "metadata": {}
        }
      ]
    },
    {
      "cell_type": "code",
      "source": [
        "# Training Accuracy\n",
        "train_pred = model.predict(X_train)\n",
        "train_pred = np.argmax(train_pred, axis=1)\n",
        "y_train_new = np.argmax(y_train, axis=1)\n",
        "\n",
        "count_train = 0\n",
        "for i in range(0, len(train_pred)):\n",
        "  if train_pred[i] == y_train_new[i]:\n",
        "    count_train += 1\n",
        "\n",
        "x1 = count_train/len(train_pred)\n",
        "\n",
        "# Validation Accuracy\n",
        "test_pred = model.predict(X_test)\n",
        "test_pred = np.argmax(test_pred, axis=1)\n",
        "y_test_new = np.argmax(y_test, axis=1)\n",
        "\n",
        "count_test = 0\n",
        "for i in range(0, len(test_pred)):\n",
        "  if test_pred[i] == y_test_new[i]:\n",
        "    count_test += 1\n",
        "\n",
        "x2 = count_test/len(test_pred)\n",
        "\n",
        "print('Training Accuracy  : %1.2f%%'%(x1*100))\n",
        "print('Validation Accuracy: %1.2f%%'%(x2*100))"
      ],
      "metadata": {
        "id": "FVKT0wPJUnpA",
        "colab": {
          "base_uri": "https://localhost:8080/"
        },
        "outputId": "a0e14dab-8d58-4aab-ef22-be1b52b53145"
      },
      "execution_count": 18,
      "outputs": [
        {
          "output_type": "stream",
          "name": "stdout",
          "text": [
            "Training Accuracy  : 98.98%\n",
            "Validation Accuracy: 96.94%\n"
          ]
        }
      ]
    }
  ]
}